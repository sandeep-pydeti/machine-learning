{
  "nbformat": 4,
  "nbformat_minor": 0,
  "metadata": {
    "kernelspec": {
      "display_name": "Python 3",
      "language": "python",
      "name": "python3"
    },
    "language_info": {
      "codemirror_mode": {
        "name": "ipython",
        "version": 3
      },
      "file_extension": ".py",
      "mimetype": "text/x-python",
      "name": "python",
      "nbconvert_exporter": "python",
      "pygments_lexer": "ipython3",
      "version": "3.6.9"
    },
    "colab": {
      "name": "cb.en.u4cse19138_HypothesisTesting.ipynb",
      "provenance": [],
      "collapsed_sections": [],
      "include_colab_link": true
    }
  },
  "cells": [
    {
      "cell_type": "markdown",
      "metadata": {
        "id": "view-in-github",
        "colab_type": "text"
      },
      "source": [
        "<a href=\"https://colab.research.google.com/github/sandeep-pydeti/machine-learning/blob/main/cb_en_u4cse19138_HypothesisTesting.ipynb\" target=\"_parent\"><img src=\"https://colab.research.google.com/assets/colab-badge.svg\" alt=\"Open In Colab\"/></a>"
      ]
    },
    {
      "cell_type": "markdown",
      "metadata": {
        "id": "CqoJTEpMwYEX"
      },
      "source": [
        "# Hypothesis Testing"
      ]
    },
    {
      "cell_type": "code",
      "metadata": {
        "id": "SRyalNhBwYEg"
      },
      "source": [
        "import numpy as np\n",
        "import scipy.stats as st"
      ],
      "execution_count": 1,
      "outputs": []
    },
    {
      "cell_type": "markdown",
      "metadata": {
        "id": "j6AmwSarBV7k"
      },
      "source": [
        "1. Travel Times to Work \n",
        "Based on information from the U.S. Census Bureau, the mean travel time to work\n",
        "in minutes for all workers 16 years old and older was 25.3 minutes. A large\n",
        "company with offices in several states randomly sampled 100 of its workers to\n",
        "ascertain their commuting times. The sample mean was 23.9 minutes, and the\n",
        "population standard deviation is 6.39 minutes. At the 0.01 level of significance,\n",
        "can it be concluded that the mean commuting time is less for this particular\n",
        "company?\n"
      ]
    },
    {
      "cell_type": "code",
      "metadata": {
        "id": "MAR4z2TLBuvb"
      },
      "source": [
        "#H0 : μ = 16, Ha :  μ > 25.3\n",
        "n = 100\n",
        "xbar = 23.9\n",
        "mu = 25.3\n",
        "sigma = 6.39\n",
        "alpha = 0.01"
      ],
      "execution_count": 2,
      "outputs": []
    },
    {
      "cell_type": "code",
      "metadata": {
        "colab": {
          "base_uri": "https://localhost:8080/"
        },
        "id": "qhbAkDW0DNiV",
        "outputId": "7cb3c3f3-175e-4f94-a72a-a4f9c44e1c19"
      },
      "source": [
        "z_critical = abs(st.norm.ppf(alpha)) #Absolute value taken as the it's a right-tailed test and the original value will be negative\n",
        "z_critical"
      ],
      "execution_count": 3,
      "outputs": [
        {
          "output_type": "execute_result",
          "data": {
            "text/plain": [
              "2.3263478740408408"
            ]
          },
          "metadata": {},
          "execution_count": 3
        }
      ]
    },
    {
      "cell_type": "code",
      "metadata": {
        "colab": {
          "base_uri": "https://localhost:8080/"
        },
        "id": "v7J_eLqhDUR7",
        "outputId": "4362e7a7-92d2-4abf-d392-79c0ebc005ee"
      },
      "source": [
        "z = (xbar-mu)/(sigma/np.sqrt(n))\n",
        "z"
      ],
      "execution_count": 4,
      "outputs": [
        {
          "output_type": "execute_result",
          "data": {
            "text/plain": [
              "-2.1909233176838843"
            ]
          },
          "metadata": {},
          "execution_count": 4
        }
      ]
    },
    {
      "cell_type": "code",
      "metadata": {
        "colab": {
          "base_uri": "https://localhost:8080/"
        },
        "id": "W-bCWH6YDfRN",
        "outputId": "cd24fe35-bf0a-41c0-c51b-78d2da05523c"
      },
      "source": [
        "if (z < z_critical): \n",
        "    print(\"Null hypothesis cannot be rejected\")\n",
        "else:\n",
        "    print(\"Reject null hypothesis\")"
      ],
      "execution_count": 5,
      "outputs": [
        {
          "output_type": "stream",
          "name": "stdout",
          "text": [
            "Null hypothesis cannot be rejected\n"
          ]
        }
      ]
    },
    {
      "cell_type": "markdown",
      "metadata": {
        "id": "x433Q7oFFwaV"
      },
      "source": [
        "2. Time Until Indigestion Relief \n",
        "An advertisement claims that Fasto Stomach Calm will provide relief from\n",
        "indigestion in less than 10 minutes. For a test of the claim, 35 randomly selected\n",
        "individuals were given the product; the average time until relief was 9.25 minutes.\n",
        "From past studies, the standard deviation of the population is known to be 2\n",
        "minutes. Can you,conclude that the claim is justified? Find the P‐value,and let α =0.05"
      ]
    },
    {
      "cell_type": "code",
      "metadata": {
        "id": "oJ_dHE6MGGAs"
      },
      "source": [
        "#H0 : μ >= 10 and Ha : μ < 10\n",
        "n = 35\n",
        "xbar = 9.25\n",
        "mu = 10\n",
        "sigma = 2\n",
        "alpha = 0.05"
      ],
      "execution_count": 6,
      "outputs": []
    },
    {
      "cell_type": "code",
      "metadata": {
        "colab": {
          "base_uri": "https://localhost:8080/"
        },
        "id": "_MklBlCxG-rX",
        "outputId": "d7077ccb-dcb2-4d24-9ce6-5126d0e6ffa0"
      },
      "source": [
        "z = (xbar-mu)/(sigma/np.sqrt(n))\n",
        "z"
      ],
      "execution_count": 7,
      "outputs": [
        {
          "output_type": "execute_result",
          "data": {
            "text/plain": [
              "-2.218529918662356"
            ]
          },
          "metadata": {},
          "execution_count": 7
        }
      ]
    },
    {
      "cell_type": "code",
      "metadata": {
        "colab": {
          "base_uri": "https://localhost:8080/"
        },
        "id": "Oy_o0CStHBvC",
        "outputId": "7ae725c9-249c-4fcd-8b17-797b7707ab10"
      },
      "source": [
        "p_val = (1 - st.norm.cdf(abs(z))) * 2\n",
        "p_val"
      ],
      "execution_count": 8,
      "outputs": [
        {
          "output_type": "execute_result",
          "data": {
            "text/plain": [
              "0.026518721959430724"
            ]
          },
          "metadata": {},
          "execution_count": 8
        }
      ]
    },
    {
      "cell_type": "code",
      "metadata": {
        "colab": {
          "base_uri": "https://localhost:8080/"
        },
        "id": "FG6NsMMhHFcx",
        "outputId": "55e5a428-6ce3-46d8-de53-9486db8957db"
      },
      "source": [
        "if (p_val > alpha):\n",
        "    print(\"Null hypothesis cannot be rejected\")\n",
        "else:\n",
        "    print(\"Reject null hypothesis\")"
      ],
      "execution_count": 9,
      "outputs": [
        {
          "output_type": "stream",
          "name": "stdout",
          "text": [
            "Reject null hypothesis\n"
          ]
        }
      ]
    },
    {
      "cell_type": "markdown",
      "metadata": {
        "id": "VlWNwu5VH6Ze"
      },
      "source": [
        "3. \n",
        "A random sample of 1 Dollar Trifecta tickets at a local racetrack paid the following\n",
        "amounts,(in dollars and cents). Is there sufficient evidence to conclude that the\n",
        "average Trifecta winnings exceed $50? Use α = 0.10. Assume the variable is\n",
        "normally distributed.    8.90,70.20,15.00,29.10,141.00,48.60,83.00,72.70,75.30,59.20,32.40,19.00,190.10 "
      ]
    },
    {
      "cell_type": "code",
      "metadata": {
        "id": "z9zm8LlsIl_C"
      },
      "source": [
        "#H0 : μ = 50, Ha : μ > 50\n",
        "n = 13\n",
        "degrees_of_freedom = n-1\n",
        "xbar = 59.73\n",
        "mu = 50\n",
        "s = 54.17723\n",
        "alpha = 0.10"
      ],
      "execution_count": 10,
      "outputs": []
    },
    {
      "cell_type": "code",
      "metadata": {
        "colab": {
          "base_uri": "https://localhost:8080/"
        },
        "id": "vnQ8FuSRJHvm",
        "outputId": "3a44162d-e249-4d44-ceb1-ecddab0c80cf"
      },
      "source": [
        "t = (xbar - mu)/(s / np.sqrt(n))\n",
        "t"
      ],
      "execution_count": 11,
      "outputs": [
        {
          "output_type": "execute_result",
          "data": {
            "text/plain": [
              "0.6475416685250354"
            ]
          },
          "metadata": {},
          "execution_count": 11
        }
      ]
    },
    {
      "cell_type": "code",
      "metadata": {
        "colab": {
          "base_uri": "https://localhost:8080/"
        },
        "id": "2VKVkTpfJHsM",
        "outputId": "59e14045-c7ab-4e8a-f1b9-843bc884ae5f"
      },
      "source": [
        "p_val = (1 - st.t.cdf(abs(t), degrees_of_freedom)) #\"1 - cdf\" because it's a right-tailed test\n",
        "p_val"
      ],
      "execution_count": 12,
      "outputs": [
        {
          "output_type": "execute_result",
          "data": {
            "text/plain": [
              "0.2647376565885107"
            ]
          },
          "metadata": {},
          "execution_count": 12
        }
      ]
    },
    {
      "cell_type": "code",
      "metadata": {
        "colab": {
          "base_uri": "https://localhost:8080/"
        },
        "id": "1CseEJ_PJR-x",
        "outputId": "5c2fc703-02ec-4ee9-f3de-0aca10533db2"
      },
      "source": [
        "if (p_val > alpha):\n",
        "    print(\"Null hypothesis cannot be rejected\")\n",
        "else:\n",
        "    print(\"Reject null hypothesis\")"
      ],
      "execution_count": 13,
      "outputs": [
        {
          "output_type": "stream",
          "name": "stdout",
          "text": [
            "Null hypothesis cannot be rejected\n"
          ]
        }
      ]
    },
    {
      "cell_type": "markdown",
      "metadata": {
        "id": "Dfz2a1rfKXR9"
      },
      "source": [
        "4. Whooping Crane Eggs \n",
        "Once down to about 15, the world’s only wild flock of whooping cranes now\n",
        "numbers a record 237 birds in its Texas Coastal Bend, wintering ground. The\n",
        "average whooping crane egg weighs 208 grams. A new batch of randomly selected\n",
        "eggs was recently weighed, and their weights are listed below. At α = 0.01, is there\n",
        "sufficient evidence to conclude that the weight is greater than 208 grams? Assume\n",
        "the variable is normally distributed.\n",
        "210,210.2,208.5,209,211.6,206.4,212,209.7,210.3\n"
      ]
    },
    {
      "cell_type": "code",
      "metadata": {
        "id": "MoWUeuqqKgTx"
      },
      "source": [
        "#H0 : μ <= 208, Ha : μ > 208\n",
        "n = 15\n",
        "degrees_of_freedom = n-1\n",
        "xbar = 209.74\n",
        "mu = 208\n",
        "s = 1.6734\n",
        "alpha = 0.01"
      ],
      "execution_count": 14,
      "outputs": []
    },
    {
      "cell_type": "code",
      "metadata": {
        "colab": {
          "base_uri": "https://localhost:8080/"
        },
        "id": "kULrAE8IK_te",
        "outputId": "96b4037a-1ef6-440d-d952-825aadc1de30"
      },
      "source": [
        "t = (xbar - mu)/(s / np.sqrt(n))\n",
        "t"
      ],
      "execution_count": 15,
      "outputs": [
        {
          "output_type": "execute_result",
          "data": {
            "text/plain": [
              "4.027125028326127"
            ]
          },
          "metadata": {},
          "execution_count": 15
        }
      ]
    },
    {
      "cell_type": "code",
      "metadata": {
        "colab": {
          "base_uri": "https://localhost:8080/"
        },
        "id": "6il0qMPnK_jQ",
        "outputId": "1bba69e3-3070-42f0-cf3f-58a7d49eeace"
      },
      "source": [
        "t_critical = st.t.ppf(alpha/2, degrees_of_freedom)\n",
        "t_critical"
      ],
      "execution_count": 16,
      "outputs": [
        {
          "output_type": "execute_result",
          "data": {
            "text/plain": [
              "-2.9768427341126604"
            ]
          },
          "metadata": {},
          "execution_count": 16
        }
      ]
    },
    {
      "cell_type": "code",
      "metadata": {
        "colab": {
          "base_uri": "https://localhost:8080/"
        },
        "id": "oXCkp91jK_BD",
        "outputId": "cc5a8891-f94a-413f-d5f1-69a382860255"
      },
      "source": [
        "if (abs(t) > abs(t_critical)):\n",
        "    print(\"Null hypothesis cannot be rejected\")\n",
        "else:\n",
        "    print(\"Reject null hypothesis\")"
      ],
      "execution_count": 18,
      "outputs": [
        {
          "output_type": "stream",
          "name": "stdout",
          "text": [
            "Null hypothesis cannot be rejected\n"
          ]
        }
      ]
    },
    {
      "cell_type": "markdown",
      "metadata": {
        "id": "2CA5D711PRK0"
      },
      "source": [
        "5. Federal Prison Populations \n",
        "Nationally 60.2% of federal prisoners are serving time for drug offences. A warden\n",
        "feels that in his prison the percentage is even higher. He surveys 400 randomly\n",
        "selected inmates’ records and finds that 260 of the inmates are drug offenders. At\n",
        "α = 0.05, is he correct?"
      ]
    },
    {
      "cell_type": "code",
      "metadata": {
        "id": "lwf1NElFPYaQ"
      },
      "source": [
        "#H0 : p = 0.602 and Ha : p>0.602\n",
        "n = 400\n",
        "xbar = 0.65\n",
        "mu = 0.602\n",
        "sigma = 0.398\n",
        "alpha = 0.05"
      ],
      "execution_count": 19,
      "outputs": []
    },
    {
      "cell_type": "code",
      "metadata": {
        "colab": {
          "base_uri": "https://localhost:8080/"
        },
        "id": "2oMC-LAgP9SN",
        "outputId": "cbd44a0f-ab85-4c6e-9f6b-1fbe4e450751"
      },
      "source": [
        "z = (xbar-mu)/(sigma/np.sqrt(n))\n",
        "z"
      ],
      "execution_count": 20,
      "outputs": [
        {
          "output_type": "execute_result",
          "data": {
            "text/plain": [
              "2.4120603015075397"
            ]
          },
          "metadata": {},
          "execution_count": 20
        }
      ]
    },
    {
      "cell_type": "code",
      "metadata": {
        "colab": {
          "base_uri": "https://localhost:8080/"
        },
        "id": "PQiEGQwSP_5s",
        "outputId": "d9fc790d-6507-4bed-842f-1ab4b3fb4682"
      },
      "source": [
        "p_val = (1 - st.norm.cdf(abs(z))) * 2\n",
        "p_val"
      ],
      "execution_count": 21,
      "outputs": [
        {
          "output_type": "execute_result",
          "data": {
            "text/plain": [
              "0.015862657734413865"
            ]
          },
          "metadata": {},
          "execution_count": 21
        }
      ]
    },
    {
      "cell_type": "code",
      "metadata": {
        "colab": {
          "base_uri": "https://localhost:8080/"
        },
        "id": "p5CrdZ5XP_Oe",
        "outputId": "bcd166ba-97fc-4841-9e88-96ee3878b4cd"
      },
      "source": [
        "if (p_val > alpha):\n",
        "    print(\"Null hypothesis cannot be rejected\")\n",
        "else:\n",
        "    print(\"Reject null hypothesis\")"
      ],
      "execution_count": 22,
      "outputs": [
        {
          "output_type": "stream",
          "name": "stdout",
          "text": [
            "Reject null hypothesis\n"
          ]
        }
      ]
    },
    {
      "cell_type": "markdown",
      "metadata": {
        "id": "pb1r2lR-Rcsz"
      },
      "source": [
        "6. MP3 Ownership\n",
        "An MP3 manufacturer claims that 65%,of teenagers 13 to 16 years old have their\n",
        "own MP3 players. A researcher wishes to test the claim and selects a,random\n",
        "sample of 80 teenagers. She finds that 57 have their own MP3 players. At α = 0.05,\n",
        "should the claim be,rejected? Use the P-value method."
      ]
    },
    {
      "cell_type": "code",
      "metadata": {
        "id": "kQkNDr1HRfTe"
      },
      "source": [
        "#H0 : μ = 0.65 and Ha : μ != 0.65\n",
        "n = 80\n",
        "xbar = 0.71\n",
        "mu = 0.65\n",
        "sigma = 0.35\n",
        "alpha = 0.05"
      ],
      "execution_count": 23,
      "outputs": []
    },
    {
      "cell_type": "code",
      "metadata": {
        "colab": {
          "base_uri": "https://localhost:8080/"
        },
        "id": "m1DRBKrxRfLr",
        "outputId": "18a49268-c9c6-454d-8578-ec41c828da1a"
      },
      "source": [
        "z = (xbar-mu)/(sigma/np.sqrt(n))\n",
        "z"
      ],
      "execution_count": 24,
      "outputs": [
        {
          "output_type": "execute_result",
          "data": {
            "text/plain": [
              "1.5333037559998546"
            ]
          },
          "metadata": {},
          "execution_count": 24
        }
      ]
    },
    {
      "cell_type": "code",
      "metadata": {
        "colab": {
          "base_uri": "https://localhost:8080/"
        },
        "id": "0GhQB6mwRe4d",
        "outputId": "07669b02-0812-4262-b7ff-b78e170923e6"
      },
      "source": [
        "p_val = (1 - st.norm.cdf(abs(z))) * 2\n",
        "p_val"
      ],
      "execution_count": 25,
      "outputs": [
        {
          "output_type": "execute_result",
          "data": {
            "text/plain": [
              "0.12520102961031565"
            ]
          },
          "metadata": {},
          "execution_count": 25
        }
      ]
    },
    {
      "cell_type": "code",
      "metadata": {
        "colab": {
          "base_uri": "https://localhost:8080/"
        },
        "id": "2LlZrKvPR6YJ",
        "outputId": "513ef30e-660b-4d6a-bc9d-8d38359a4c78"
      },
      "source": [
        "if (p_val > alpha):\n",
        "    print(\"Null hypothesis cannot be rejected\")\n",
        "else:\n",
        "    print(\"Reject null hypothesis\")"
      ],
      "execution_count": 26,
      "outputs": [
        {
          "output_type": "stream",
          "name": "stdout",
          "text": [
            "Null hypothesis cannot be rejected\n"
          ]
        }
      ]
    },
    {
      "cell_type": "markdown",
      "metadata": {
        "id": "rU7tgd6kTjOy"
      },
      "source": [
        "7. Men Aged 65 and Over in the Labour Force \n",
        "Of men,aged 65 and over 20.5% are still in the U.S. labour force.,A random sample\n",
        "of 120 retired male teachers indicated that 38 were still working. Use both a\n",
        "confidence,interval and a hypothesis test. Test the claim that the,proportion is\n",
        "greater than 20.5% at α = 0.10."
      ]
    },
    {
      "cell_type": "code",
      "metadata": {
        "id": "jreIYS8hTO-i"
      },
      "source": [
        "#H0 : μ = 0.205 and Ha : μ > 0.205\n",
        "n =120\n",
        "xbar = 0.317\n",
        "mu = 0.205\n",
        "sigma = 0.359\n",
        "alpha = 0.10"
      ],
      "execution_count": 27,
      "outputs": []
    },
    {
      "cell_type": "code",
      "metadata": {
        "colab": {
          "base_uri": "https://localhost:8080/"
        },
        "id": "c-Rxq_3AVYWX",
        "outputId": "7f7cb7ed-b13b-466b-f9c7-b50bbc95ed0a"
      },
      "source": [
        "z = (xbar-mu)/(sigma/np.sqrt(n))\n",
        "z"
      ],
      "execution_count": 28,
      "outputs": [
        {
          "output_type": "execute_result",
          "data": {
            "text/plain": [
              "3.4175446485002015"
            ]
          },
          "metadata": {},
          "execution_count": 28
        }
      ]
    },
    {
      "cell_type": "code",
      "metadata": {
        "colab": {
          "base_uri": "https://localhost:8080/"
        },
        "id": "2qdw-PUKVYS3",
        "outputId": "eda997f4-bfb8-4dd6-8a59-2879643cce03"
      },
      "source": [
        "p_val = (1 - st.norm.cdf(abs(z))) * 2\n",
        "p_val"
      ],
      "execution_count": 29,
      "outputs": [
        {
          "output_type": "execute_result",
          "data": {
            "text/plain": [
              "0.0006318872872197456"
            ]
          },
          "metadata": {},
          "execution_count": 29
        }
      ]
    },
    {
      "cell_type": "code",
      "metadata": {
        "colab": {
          "base_uri": "https://localhost:8080/"
        },
        "id": "FX2z9EBqVYM5",
        "outputId": "486a7f6e-88b9-4432-8904-5c20f233893a"
      },
      "source": [
        "if (p_val > alpha):\n",
        "    print(\"Null hypothesis cannot be rejected\")\n",
        "else:\n",
        "    print(\"Reject null hypothesis\")"
      ],
      "execution_count": 30,
      "outputs": [
        {
          "output_type": "stream",
          "name": "stdout",
          "text": [
            "Reject null hypothesis\n"
          ]
        }
      ]
    },
    {
      "cell_type": "markdown",
      "metadata": {
        "id": "rkNGI2LQWSN0"
      },
      "source": [
        "8. Movie Admission Prices \n",
        "The average movie admission price for a recent year was 7.18 Dollars. The\n",
        "population,variance was 3.81. A random sample of 15 theatre admission prices\n",
        "had a mean of 8.02 Dollars with a standard,deviation of $2.08. At α = 0.05, is there\n",
        "sufficient evidence to conclude a difference from the population variance?\n",
        "Assume the variable is normally distributed."
      ]
    },
    {
      "cell_type": "markdown",
      "metadata": {
        "id": "SMZS1szEXg7Q"
      },
      "source": [
        "9. Fuel Consumption \n",
        "The standard deviation of fuel,consumption of a manufacturer’s sport utility\n",
        "vehicle,is hypothesized to be 3.3 miles per gallon. A random,sample of 18 vehicles\n",
        "has a standard deviation of,2.8 miles per gallon. At α = 0.10, is the claim,\n",
        "believable?\n"
      ]
    },
    {
      "cell_type": "markdown",
      "metadata": {
        "id": "8iVC2ZTqaNTK"
      },
      "source": [
        "10. Tire Inflation \n",
        "To see whether people are keeping their car tires inflated to the correct level of 35\n",
        "pounds per square inch (psi), a tire company manager selects a random sample of\n",
        "36 tires and checks the pressure. The mean of the sample is 33.5 psi, and the\n",
        "population standard deviation is 3 psi. Are the tires properly inflated? Use α = 0.10.\n",
        "Find the 90% confidence interval of the mean. Do the results agree? Explain"
      ]
    },
    {
      "cell_type": "code",
      "metadata": {
        "id": "d6Bukpmoc81n"
      },
      "source": [
        ""
      ],
      "execution_count": null,
      "outputs": []
    }
  ]
}